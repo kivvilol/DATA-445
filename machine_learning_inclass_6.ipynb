{
 "cells": [
  {
   "cell_type": "code",
   "execution_count": 49,
   "id": "2de7cecf",
   "metadata": {},
   "outputs": [
    {
     "data": {
      "text/plain": [
       "20306843.22707661"
      ]
     },
     "execution_count": 49,
     "metadata": {},
     "output_type": "execute_result"
    }
   ],
   "source": [
    "# importing libraries\n",
    "import pandas as pd\n",
    "import boto3\n",
    "import numpy as np\n",
    "from sklearn.model_selection import train_test_split \n",
    "from sklearn.linear_model import LinearRegression, Ridge, RidgeCV, Lasso, LassoCV\n",
    "\n",
    "# defining the bucket\n",
    "s3 = boto3.resource('s3')\n",
    "bucket_name = 'webster-data445-bucket'\n",
    "bucket = s3.Bucket(bucket_name)\n",
    "\n",
    "# defining the csv file\n",
    "file_key = 'CarPrice_Assignment.csv'\n",
    "\n",
    "bucket_object = bucket.Object(file_key)\n",
    "file_object = bucket_object.get()\n",
    "file_content_stream = file_object.get('Body')\n",
    "\n",
    "# reading the csv file\n",
    "car_price = pd.read_csv(file_content_stream)\n",
    "car_price.head()\n",
    "\n",
    "# defining input and target variables\n",
    "X = car_price[['wheelbase', 'enginesize', 'compressionratio', 'horsepower', 'peakrpm', 'citympg', 'highwaympg']]\n",
    "Y = car_price['price']\n",
    "\n",
    "# splitting into train (80%) and test (20%)\n",
    "X_train, X_test, Y_train, Y_test = train_test_split(X, Y, test_size = 0.2)\n",
    "\n",
    "# performing LASSO as variable selector\n",
    "# First we need to estimate lambda\n",
    "lasso_cv = LassoCV(alphas = [0.001, 0.01, 0.1, 1, 10], normalize = True, cv = 5).fit(X_train, Y_train)\n",
    "\n",
    "# extracting optimal alpha\n",
    "cv_alpha = lasso_cv.alpha_\n",
    "cv_alpha\n",
    "\n",
    "# variable selection with LASSO\n",
    "lasso_md = Lasso(alpha = cv_alpha, normalize = True).fit(X_train, Y_train)\n",
    "lasso_md.coef_\n",
    "\n",
    "# dropping highwaympg\n",
    "X_train = X_train.drop(columns = ['highwaympg'], axis = 1)\n",
    "X_test = X_test.drop(columns = ['highwaympg'], axis = 1)\n",
    "\n",
    "# creating l2 normalization function\n",
    "def l2_normalization(X):\n",
    "    \n",
    "    x_mean = np.mean(X)\n",
    "    l2 = np.sqrt(sum(X**2))\n",
    "    return (X - x_mean) / l2\n",
    "\n",
    "# normalizing train and test dataset\n",
    "X_train = X_train.apply(l2_normalization, axis = 1)\n",
    "X_test = X_test.apply(l2_normalization, axis = 1)\n",
    "\n",
    "# building linear regression model\n",
    "lm_md = LinearRegression().fit(X_train, Y_train)\n",
    "\n",
    "# predicting on test\n",
    "md1_pred = lm_md.predict(X_test)\n",
    "\n",
    "# computing MSE\n",
    "mse1 = np.mean(np.power(Y_test - md1_pred, 2))\n",
    "mse1\n",
    "\n"
   ]
  }
 ],
 "metadata": {
  "kernelspec": {
   "display_name": "conda_python3",
   "language": "python",
   "name": "conda_python3"
  },
  "language_info": {
   "codemirror_mode": {
    "name": "ipython",
    "version": 3
   },
   "file_extension": ".py",
   "mimetype": "text/x-python",
   "name": "python",
   "nbconvert_exporter": "python",
   "pygments_lexer": "ipython3",
   "version": "3.6.13"
  }
 },
 "nbformat": 4,
 "nbformat_minor": 5
}
