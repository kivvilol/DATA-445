{
 "cells": [
  {
   "cell_type": "code",
   "execution_count": 24,
   "id": "7ff4efce",
   "metadata": {},
   "outputs": [
    {
     "data": {
      "text/plain": [
       "0.7978142076502732"
      ]
     },
     "execution_count": 24,
     "metadata": {},
     "output_type": "execute_result"
    }
   ],
   "source": [
    "# importing libraries\n",
    "import pandas as pd\n",
    "import boto3\n",
    "import numpy as np\n",
    "\n",
    "# defining the bucket\n",
    "s3 = boto3.resource('s3')\n",
    "bucket_name = 'webster-data445-bucket'\n",
    "bucket = s3.Bucket(bucket_name)\n",
    "\n",
    "# defining the csv file\n",
    "file_key = 'framingham.csv'\n",
    "\n",
    "bucket_object = bucket.Object(file_key)\n",
    "file_object = bucket_object.get()\n",
    "file_content_stream = file_object.get('Body')\n",
    "\n",
    "# reading the csv file\n",
    "heart = pd.read_csv(file_content_stream)\n",
    "heart.head()\n",
    "\n",
    "# removing missing values\n",
    "heart = heart.dropna()\n",
    "\n",
    "# splitting data into training and testing\n",
    "from sklearn.model_selection import train_test_split # importing train_test_split\n",
    "\n",
    "X = heart[['age', 'currentSmoker', 'totChol', 'BMI', 'heartRate']]\n",
    "Y = heart['TenYearCHD']\n",
    "\n",
    "X_train, X_test, Y_train, Y_test = train_test_split(X, Y, test_size = 0.2)\n",
    "\n",
    "# building the linear model\n",
    "from sklearn.linear_model import LogisticRegression\n",
    "\n",
    "logit_md = LogisticRegression().fit(X_train, Y_train)\n",
    "\n",
    "# predicting on test\n",
    "preds = logit_md.predict_proba(X_test)[:,1]\n",
    "preds\n",
    "\n",
    "# changing values to 0 and 1\n",
    "preds = np.where(preds < 0.25, 0, 1)\n",
    "\n",
    "# importing confusion_matrix and accuracy_score\n",
    "from sklearn.metrics import confusion_matrix, accuracy_score\n",
    "\n",
    "# creating the confusion matrix\n",
    "confusion_matrix(Y_test, preds)\n",
    "\n",
    "# computing accuracy score\n",
    "accuracy_score(Y_test, preds)"
   ]
  }
 ],
 "metadata": {
  "kernelspec": {
   "display_name": "conda_python3",
   "language": "python",
   "name": "conda_python3"
  },
  "language_info": {
   "codemirror_mode": {
    "name": "ipython",
    "version": 3
   },
   "file_extension": ".py",
   "mimetype": "text/x-python",
   "name": "python",
   "nbconvert_exporter": "python",
   "pygments_lexer": "ipython3",
   "version": "3.6.13"
  }
 },
 "nbformat": 4,
 "nbformat_minor": 5
}
