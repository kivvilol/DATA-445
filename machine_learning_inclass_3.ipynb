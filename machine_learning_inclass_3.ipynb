{
 "cells": [
  {
   "cell_type": "code",
   "execution_count": 31,
   "id": "87844d16",
   "metadata": {},
   "outputs": [
    {
     "data": {
      "text/plain": [
       "60.03751464951108"
      ]
     },
     "execution_count": 31,
     "metadata": {},
     "output_type": "execute_result"
    }
   ],
   "source": [
    "# importing libraries\n",
    "import pandas as pd\n",
    "import boto3\n",
    "import numpy as np\n",
    "\n",
    "# defining the bucket\n",
    "s3 = boto3.resource('s3')\n",
    "bucket_name = 'webster-data445-bucket'\n",
    "bucket = s3.Bucket(bucket_name)\n",
    "\n",
    "# defining the csv file\n",
    "file_key = 'Real_Estate.csv'\n",
    "\n",
    "bucket_object = bucket.Object(file_key)\n",
    "file_object = bucket_object.get()\n",
    "file_content_stream = file_object.get('Body')\n",
    "\n",
    "# reading the csv file\n",
    "house_price = pd.read_csv(file_content_stream)\n",
    "house_price.head()\n",
    "\n",
    "# dropping the No column\n",
    "house_price = house_price.drop(columns = ['No', 'transaction_date'])\n",
    "house_price.head()\n",
    "\n",
    "# splitting data into training and testing\n",
    "from sklearn.model_selection import train_test_split # importing train_test_split\n",
    "\n",
    "X = house_price[['house_age', 'distance_to_the_nearest_MRT_station', 'number_of_convenience_stores', 'latitude', 'longitude']]\n",
    "Y = house_price['house_price_of_unit_area']\n",
    "\n",
    "X_train, X_test, Y_train, Y_test = train_test_split(X, Y, test_size = 0.2)\n",
    "\n",
    "# building the linear model\n",
    "from sklearn.linear_model import LinearRegression\n",
    "\n",
    "lm_md = LinearRegression().fit(X_train, Y_train)\n",
    "lm_md.coef_\n",
    "\n",
    "# predicting on test\n",
    "preds = lm_md.predict(X_test)\n",
    "preds\n",
    "\n",
    "# calculating the mean square error (MSE) - select model with lowest MSE in general\n",
    "mse = np.mean(np.power(preds - Y_test, 2))\n",
    "mse"
   ]
  }
 ],
 "metadata": {
  "kernelspec": {
   "display_name": "conda_python3",
   "language": "python",
   "name": "conda_python3"
  },
  "language_info": {
   "codemirror_mode": {
    "name": "ipython",
    "version": 3
   },
   "file_extension": ".py",
   "mimetype": "text/x-python",
   "name": "python",
   "nbconvert_exporter": "python",
   "pygments_lexer": "ipython3",
   "version": "3.6.13"
  }
 },
 "nbformat": 4,
 "nbformat_minor": 5
}
