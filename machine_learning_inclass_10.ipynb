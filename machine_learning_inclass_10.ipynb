{
 "cells": [
  {
   "cell_type": "code",
   "execution_count": null,
   "id": "dd25157b",
   "metadata": {},
   "outputs": [],
   "source": [
    "# importing libraries\n",
    "import boto3\n",
    "import pandas as pd\n",
    "import numpy as np\n",
    "import matplotlib.pyplot as plt\n",
    "from sklearn.preprocessing import MinMaxScaler\n",
    "from sklearn.model_selection import train_test_split\n",
    "import tensorflow as tf\n",
    "\n",
    "# defining the bucket\n",
    "s3 = boto3.resource('s3')\n",
    "bucket_name = 'webster-data445-bucket'\n",
    "bucket = s3.Bucket(bucket_name)\n",
    "\n",
    "# defining the csv file\n",
    "file_key = 'CarPrice_Assignment.csv'\n",
    "\n",
    "bucket_object = bucket.Object(file_key)\n",
    "file_object = bucket_object.get()\n",
    "file_content_stream = file_object.get('Body')\n",
    "\n",
    "# reading the csv file\n",
    "car_price = pd.read_csv(file_content_stream)\n",
    "car_price.head()"
   ]
  },
  {
   "cell_type": "code",
   "execution_count": null,
   "id": "873bb8e9",
   "metadata": {},
   "outputs": [],
   "source": [
    "# defining the input and target variables\n",
    "X = car_price[['wheelbase', 'enginesize', 'compressionratio', 'horsepower','peakrpm', 'citympg']]\n",
    "Y = car_price['price']\n",
    "# split the data into train & testing\n",
    "X_train, X_test, Y_train, Y_test = train_test_split(X, Y, test_size = 0.2)"
   ]
  },
  {
   "cell_type": "code",
   "execution_count": null,
   "id": "07904650",
   "metadata": {},
   "outputs": [],
   "source": [
    "# using minmaxscaler\n",
    "scaler = MinMaxScaler()\n",
    "\n",
    "X_train = scaler.fit_transform(X_train)\n",
    "X_test = scaler.fit_transform(X_test)"
   ]
  },
  {
   "cell_type": "code",
   "execution_count": null,
   "id": "0db6bc10",
   "metadata": {},
   "outputs": [],
   "source": [
    "md1 = tf.keras.models.Sequential([\n",
    "      tf.keras.layers.Dense(10, input_dim = 6, activation = 'relu'),\n",
    "      tf.keras.layers.Dense(1)\n",
    "])\n",
    "\n",
    "md1.compile(optimizer = 'adam', loss = 'mse')\n",
    "md1.fit(X_train, Y_train, epochs = 100, batch_size = 100, verbose = 0)"
   ]
  },
  {
   "cell_type": "code",
   "execution_count": null,
   "id": "0e437aa0",
   "metadata": {},
   "outputs": [],
   "source": [
    "md2 = tf.keras.models.Sequential([\n",
    "      tf.keras.layers.Dense(10, input_dim = 6, activation = 'relu'),\n",
    "      tf.keras.layers.Dense(8, activation = 'relu'),\n",
    "      tf.keras.layers.Dense(1)\n",
    "])\n",
    "\n",
    "md2.compile(optimizer = 'adam', loss = 'mse')\n",
    "md2.fit(X_train, Y_train, epochs = 100, batch_size = 100, verbose = 0)"
   ]
  },
  {
   "cell_type": "code",
   "execution_count": 20,
   "id": "a1b98370",
   "metadata": {},
   "outputs": [
    {
     "name": "stdout",
     "output_type": "stream",
     "text": [
      "2/2 [==============================] - 0s 2ms/step - loss: 184615488.0000\n",
      "2/2 [==============================] - 0s 7ms/step - loss: 184576272.0000\n"
     ]
    },
    {
     "data": {
      "text/plain": [
       "184576272.0"
      ]
     },
     "execution_count": 20,
     "metadata": {},
     "output_type": "execute_result"
    }
   ],
   "source": [
    "# checking the evaluated MSE of each model\n",
    "md1.evaluate(X_test, Y_test)\n",
    "md2.evaluate(X_test, Y_test)"
   ]
  },
  {
   "cell_type": "code",
   "execution_count": null,
   "id": "fa49e6eb",
   "metadata": {},
   "outputs": [],
   "source": [
    "# The MSE from the model in part 5 is smaller, therefore we would choose that model. "
   ]
  },
  {
   "cell_type": "code",
   "execution_count": null,
   "id": "34ce0833",
   "metadata": {},
   "outputs": [],
   "source": [
    "# seeing what the weights are\n",
    "md1.layers[0].weights\n",
    "md2.layers[0].weights"
   ]
  }
 ],
 "metadata": {
  "kernelspec": {
   "display_name": "conda_python3",
   "language": "python",
   "name": "conda_python3"
  },
  "language_info": {
   "codemirror_mode": {
    "name": "ipython",
    "version": 3
   },
   "file_extension": ".py",
   "mimetype": "text/x-python",
   "name": "python",
   "nbconvert_exporter": "python",
   "pygments_lexer": "ipython3",
   "version": "3.6.13"
  }
 },
 "nbformat": 4,
 "nbformat_minor": 5
}
