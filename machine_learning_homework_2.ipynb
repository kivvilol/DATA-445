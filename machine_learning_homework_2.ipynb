{
 "cells": [
  {
   "cell_type": "code",
   "execution_count": null,
   "metadata": {},
   "outputs": [],
   "source": [
    "# 1) C\n",
    "# 2) C\n",
    "# 3) B\n",
    "# 4) Regularization is a data analysis technique that shrinks the value of our variables to be closer to zero. \n",
    "#    We do this in order to prevent overfitting of our data, which can give us a false sense of whether\n",
    "#    our model is good or not."
   ]
  },
  {
   "cell_type": "code",
   "execution_count": null,
   "metadata": {},
   "outputs": [],
   "source": [
    "# importing libraries\n",
    "import pandas as pd\n",
    "import boto3\n",
    "import numpy as np\n",
    "from sklearn.model_selection import train_test_split, KFold, cross_val_score, RepeatedKFold\n",
    "from sklearn.linear_model import LogisticRegression, LinearRegression\n",
    "from sklearn.preprocessing import MinMaxScaler\n",
    "from scipy.stats import sem\n",
    "\n",
    "# defining the bucket\n",
    "s3 = boto3.resource('s3')\n",
    "bucket_name = 'webster-data445-bucket'\n",
    "bucket = s3.Bucket(bucket_name)\n",
    "\n",
    "# defining the csv file\n",
    "file_key = 'framingham.csv'\n",
    "\n",
    "bucket_object = bucket.Object(file_key)\n",
    "file_object = bucket_object.get()\n",
    "file_content_stream = file_object.get('Body')\n",
    "\n",
    "# reading the csv file\n",
    "heart = pd.read_csv(file_content_stream)\n",
    "heart.head()"
   ]
  },
  {
   "cell_type": "code",
   "execution_count": null,
   "metadata": {},
   "outputs": [],
   "source": [
    "heart = heart.dropna()\n",
    "heart.head()\n",
    "\n",
    "# scaling data\n",
    "scaler = MinMaxScaler()\n",
    "scaled = scaler.fit_transform(heart)\n",
    "print(scaled)"
   ]
  },
  {
   "cell_type": "code",
   "execution_count": null,
   "metadata": {},
   "outputs": [],
   "source": [
    "# defining input and target variables\n",
    "X = heart[['age', 'currentSmoker', 'totChol', 'sysBP', 'diaBP', 'BMI', 'heartRate', 'glucose']]\n",
    "Y = heart['TenYearCHD']\n",
    "\n",
    "X2 = X.drop(columns = ['sysBP', 'diaBP'])\n",
    "Y2 = heart['TenYearCHD']"
   ]
  },
  {
   "cell_type": "code",
   "execution_count": null,
   "metadata": {},
   "outputs": [],
   "source": [
    "kfold = KFold(n_splits = 5, shuffle = True)\n",
    "model = LogisticRegression()\n",
    "\n",
    "# model 1\n",
    "scores1 = cross_val_score(model, X, Y, scoring = 'f1_macro', cv = kfold, n_jobs = -1)\n",
    "    \n",
    "# model 2\n",
    "scores2 = cross_val_score(model, X2, Y2, scoring = 'f1_macro', cv = kfold, n_jobs = -1)\n",
    "\n",
    "\n",
    "print('F1-score 1: %.3f (%.3f)' % (np.mean(scores1), np.std(scores1)))\n",
    "print('F1-score 2: %.3f (%.3f)' % (np.mean(scores2), np.std(scores2)))\n",
    "\n",
    "## We would want to use the first model in order to predict TenYearCHD, as the F1-score is higher. "
   ]
  }
 ],
 "metadata": {
  "kernelspec": {
   "display_name": "Python 3",
   "language": "python",
   "name": "python3"
  },
  "language_info": {
   "codemirror_mode": {
    "name": "ipython",
    "version": 3
   },
   "file_extension": ".py",
   "mimetype": "text/x-python",
   "name": "python",
   "nbconvert_exporter": "python",
   "pygments_lexer": "ipython3",
   "version": "3.8.3"
  }
 },
 "nbformat": 4,
 "nbformat_minor": 5
}
