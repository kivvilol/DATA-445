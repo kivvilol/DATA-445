{
 "cells": [
  {
   "cell_type": "code",
   "execution_count": 45,
   "id": "8d3a9033",
   "metadata": {},
   "outputs": [
    {
     "data": {
      "text/plain": [
       "array([-2.68916833e-01, -4.25908898e-03,  1.16302048e+00,  2.37767191e+02,\n",
       "       -7.80545273e+00])"
      ]
     },
     "execution_count": 45,
     "metadata": {},
     "output_type": "execute_result"
    },
    {
     "data": {
      "image/png": "[encoded data removed]",
      "text/plain": [
       "<Figure size 432x288 with 1 Axes>"
      ]
     },
     "metadata": {
      "needs_background": "light"
     },
     "output_type": "display_data"
    }
   ],
   "source": [
    "# importing libraries\n",
    "import pandas as pd\n",
    "import boto3\n",
    "\n",
    "# defining the bucket\n",
    "s3 = boto3.resource('s3')\n",
    "bucket_name = 'webster-data445-bucket'\n",
    "bucket = s3.Bucket(bucket_name)\n",
    "\n",
    "# defining the csv file\n",
    "file_key = 'Real_Estate.csv'\n",
    "\n",
    "bucket_object = bucket.Object(file_key)\n",
    "file_object = bucket_object.get()\n",
    "file_content_stream = file_object.get('Body')\n",
    "\n",
    "# reading the csv file\n",
    "house_price = pd.read_csv(file_content_stream)\n",
    "house_price.head()\n",
    "\n",
    "# dropping the No column\n",
    "house_price = house_price.drop(columns = ['No'])\n",
    "house_price.head()\n",
    "\n",
    "# creating a histogram on house_age\n",
    "import matplotlib.pyplot as plt\n",
    "\n",
    "plt.hist(house_price['house_age'])\n",
    "plt.xlabel('House Age')\n",
    "plt.ylabel('Frequency')\n",
    "plt.grid()\n",
    "#plt.show()   ## The histogram appears to be bimodal and right skewed.\n",
    "\n",
    "# creating a histogram of distance_to_MRT_station\n",
    "plt.hist(house_price['distance_to_the_nearest_MRT_station'])\n",
    "plt.xlabel('Distance to the nearest MRT station')\n",
    "plt.ylabel('Frequency')\n",
    "plt.grid()\n",
    "#plt.show()   ## The histogram is right skewed with one peak around 400.\n",
    "\n",
    "# building a linear regression model\n",
    "from sklearn.linear_model import LinearRegression\n",
    "\n",
    "# defining the input and target variable\n",
    "X = house_price[['house_age', 'distance_to_the_nearest_MRT_station', 'number_of_convenience_stores', 'latitude', 'longitude']]\n",
    "Y = house_price['house_price_of_unit_area']\n",
    "\n",
    "# Building the model\n",
    "lm_md = LinearRegression().fit(X, Y)\n",
    "lm_md.coef_"
   ]
  }
 ],
 "metadata": {
  "kernelspec": {
   "display_name": "conda_python3",
   "language": "python",
   "name": "conda_python3"
  },
  "language_info": {
   "codemirror_mode": {
    "name": "ipython",
    "version": 3
   },
   "file_extension": ".py",
   "mimetype": "text/x-python",
   "name": "python",
   "nbconvert_exporter": "python",
   "pygments_lexer": "ipython3",
   "version": "3.6.13"
  }
 },
 "nbformat": 4,
 "nbformat_minor": 5
}
