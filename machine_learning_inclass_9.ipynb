{
 "cells": [
  {
   "cell_type": "code",
   "execution_count": null,
   "id": "3d2bc4ee",
   "metadata": {},
   "outputs": [],
   "source": [
    "# 1) Outputs = 0, 0, 1, 0 \n",
    "#    After changing bias, outputs = 0, 1, 1, 1\n",
    "\n",
    "# 2) 10(0.2) + 30(-0.1) + 20(0.4) = 7 (h1)\n",
    "#    1/(1 - e**-7) = 0.999 (H1)\n",
    "\n",
    "#    10(0.7) + 30(-1.2) + 20(1.2) = -5 (h2)\n",
    "#    1/(1 - e**-(-5)) = 0.00669 (H2)\n",
    "\n",
    "#    0.999(1.1) + 0.1(0.00669) = 1.0996 (o1)\n",
    "#    1/(1-e**-1.0996) = 0.75 (O1)\n",
    "\n",
    "#    3.1(0.999) + 1.17(0.00669) = 3.104 (o2)\n",
    "#    1/(1 + e**3.104) = 0.957 (O2)"
   ]
  }
 ],
 "metadata": {
  "kernelspec": {
   "display_name": "conda_python3",
   "language": "python",
   "name": "conda_python3"
  },
  "language_info": {
   "codemirror_mode": {
    "name": "ipython",
    "version": 3
   },
   "file_extension": ".py",
   "mimetype": "text/x-python",
   "name": "python",
   "nbconvert_exporter": "python",
   "pygments_lexer": "ipython3",
   "version": "3.6.13"
  }
 },
 "nbformat": 4,
 "nbformat_minor": 5
}
